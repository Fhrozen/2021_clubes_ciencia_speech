{
 "cells": [
  {
   "cell_type": "markdown",
   "id": "768f7a71",
   "metadata": {},
   "source": [
    "# Aprendizaje Automatico"
   ]
  },
  {
   "cell_type": "markdown",
   "id": "58ec8230",
   "metadata": {},
   "source": [
    "En este notebook realizaremos ejercicios de los diferentes aprendizajes (Supervisado y No-Supervisado)"
   ]
  },
  {
   "cell_type": "markdown",
   "id": "ed5fcc5c",
   "metadata": {},
   "source": [
    "## Probabilidades"
   ]
  },
  {
   "cell_type": "markdown",
   "id": "22cb87a3",
   "metadata": {},
   "source": [
    "Referencias: \n",
    "- https://www.youtube.com/watch?v=qs_UCrZ7fZA\n",
    "- https://relopezbriega.github.io/blog/2016/11/26/introduccion-a-la-teoria-de-probabilidad-con-python/\n",
    "- https://www.youtube.com/watch?v=XYPNtZZvfMM"
   ]
  },
  {
   "cell_type": "markdown",
   "id": "a9beae09",
   "metadata": {},
   "source": [
    "**Probabilidad**: Porcentaje que un evento tiene de ocurrir.  \n",
    "**Experimento**: Una operación que puede producir algunos resultados bien definidos.  \n",
    "**Experimento aleatorio**: se conocen todos los resultados posibles y no se puede predecir el resultado exacto de antemano."
   ]
  },
  {
   "cell_type": "markdown",
   "id": "a0b914c1",
   "metadata": {},
   "source": [
    "### Experimento de lanzamiento de una moneda."
   ]
  },
  {
   "cell_type": "code",
   "execution_count": null,
   "id": "75bbb79d",
   "metadata": {},
   "outputs": [],
   "source": [
    "from scipy.stats import bernoulli"
   ]
  },
  {
   "cell_type": "code",
   "execution_count": null,
   "id": "033fbd9b",
   "metadata": {},
   "outputs": [],
   "source": [
    "bernoulli.rvs(p=0.5, size=10)"
   ]
  },
  {
   "cell_type": "markdown",
   "id": "440502b3",
   "metadata": {},
   "source": [
    "### Experimento de lanzamiento de varias monedas."
   ]
  },
  {
   "cell_type": "code",
   "execution_count": null,
   "id": "003973d5",
   "metadata": {},
   "outputs": [],
   "source": [
    "from scipy.stats import binom"
   ]
  },
  {
   "cell_type": "code",
   "execution_count": null,
   "id": "bba08617",
   "metadata": {},
   "outputs": [],
   "source": [
    "binom.rvs(n=10, p=0.5, size=10)"
   ]
  },
  {
   "cell_type": "markdown",
   "id": "e22a3403",
   "metadata": {},
   "source": [
    "## Arreglos & Matrices"
   ]
  },
  {
   "cell_type": "markdown",
   "id": "bc47865d",
   "metadata": {},
   "source": [
    "Referencias:\n",
    "- https://www.youtube.com/watch?v=xECXZ3tyONo\n",
    "- https://www.youtube.com/watch?v=8Mpc9ukltVA\n",
    "    "
   ]
  },
  {
   "cell_type": "markdown",
   "id": "24065f9a",
   "metadata": {},
   "source": [
    "- Define un vector 1-D de 30\n",
    "- Ahora una matriz 2-D de 30 x 3\n",
    "- Luego, guarda el resultado de su multiplicacion en una nueva variable.\n",
    "- Aplica la funcion tanh y al resultado sumale un vector aleatorio de 3\n",
    "- Luego grafica el resultado del vector inicial y el final"
   ]
  },
  {
   "cell_type": "code",
   "execution_count": null,
   "id": "b6abceb8",
   "metadata": {},
   "outputs": [],
   "source": []
  },
  {
   "cell_type": "markdown",
   "id": "edec053e",
   "metadata": {},
   "source": [
    "## Aprendizaje Supervisado"
   ]
  },
  {
   "cell_type": "code",
   "execution_count": null,
   "id": "fd33d0c0",
   "metadata": {},
   "outputs": [],
   "source": [
    "from sklearn.datasets import load_digits\n",
    "import numpy as np\n",
    "from matplotlib import pyplot as plt"
   ]
  },
  {
   "cell_type": "code",
   "execution_count": null,
   "id": "e25722f7",
   "metadata": {},
   "outputs": [],
   "source": [
    "data, labels = load_digits(return_X_y=True)\n",
    "(n_samples, n_features), n_digits = data.shape, np.unique(labels).size\n",
    "print(\n",
    "    f\"# digits: {n_digits}; # samples: {n_samples}; # features {n_features}\"\n",
    ")"
   ]
  },
  {
   "cell_type": "code",
   "execution_count": null,
   "id": "715d8669",
   "metadata": {},
   "outputs": [],
   "source": [
    "image = data[0].reshape()\n",
    "plt.imshow(image)"
   ]
  },
  {
   "cell_type": "code",
   "execution_count": null,
   "id": "b6e7d3e0",
   "metadata": {},
   "outputs": [],
   "source": [
    "num_test = \n",
    "indices = np.random.permutation(n_samples)\n",
    "X_train = data[indices[:-num_test]]\n",
    "Y_train = labels[indices[:-num_test]]\n",
    "X_test = data[indices[-num_test:]]\n",
    "Y_test = labels[indices[-num_test:]]"
   ]
  },
  {
   "cell_type": "code",
   "execution_count": null,
   "id": "37e13808",
   "metadata": {},
   "outputs": [],
   "source": [
    "from sklearn.neighbors import KNeighborsClassifier"
   ]
  },
  {
   "cell_type": "code",
   "execution_count": null,
   "id": "95310b22",
   "metadata": {},
   "outputs": [],
   "source": [
    "knn = KNeighborsClassifier()\n",
    "knn.fit(X_train, Y_train)"
   ]
  },
  {
   "cell_type": "code",
   "execution_count": null,
   "id": "eda5376f",
   "metadata": {},
   "outputs": [],
   "source": [
    "predict = knn.predict(X_test)\n",
    "print(predict)\n",
    "print(Y_test)"
   ]
  },
  {
   "cell_type": "markdown",
   "id": "e393a8f5",
   "metadata": {},
   "source": [
    "Escribe una funcion para medir la precision de la predicción.  \n",
    "En este caso la precisión va ser como la igualdad de entre la predicción y el original."
   ]
  },
  {
   "cell_type": "code",
   "execution_count": null,
   "id": "084830d2",
   "metadata": {},
   "outputs": [],
   "source": []
  },
  {
   "cell_type": "markdown",
   "id": "599edb23",
   "metadata": {},
   "source": [
    "Por ultimo, mostramos las imagenes de los valores equivocados."
   ]
  },
  {
   "cell_type": "code",
   "execution_count": null,
   "id": "749846c9",
   "metadata": {},
   "outputs": [],
   "source": [
    "wrong = np.where()[0]\n",
    "for x in wrong:\n",
    "  print(f'True Label: {Y_test[x]} - Predicted: {predict[x]}')\n",
    "  plt.figure()\n",
    "  plt.imshow(X_test[x].reshape(8, 8), plt.get_cmap('gray'))"
   ]
  }
 ],
 "metadata": {
  "kernelspec": {
   "display_name": "Python 3 (ipykernel)",
   "language": "python",
   "name": "python3"
  },
  "language_info": {
   "codemirror_mode": {
    "name": "ipython",
    "version": 3
   },
   "file_extension": ".py",
   "mimetype": "text/x-python",
   "name": "python",
   "nbconvert_exporter": "python",
   "pygments_lexer": "ipython3",
   "version": "3.9.7"
  }
 },
 "nbformat": 4,
 "nbformat_minor": 5
}
