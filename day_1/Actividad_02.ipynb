{
 "cells": [
  {
   "cell_type": "markdown",
   "id": "0a9d4676",
   "metadata": {},
   "source": [
    "# Introduccion a la Inteligencia Artificial"
   ]
  },
  {
   "cell_type": "markdown",
   "id": "309d9fad",
   "metadata": {},
   "source": [
    "Veremos dos ejercicios con para entender el concepto de inteligencia artificial"
   ]
  },
  {
   "cell_type": "markdown",
   "id": "92a5bd00",
   "metadata": {},
   "source": [
    "## Objeto Rebotador"
   ]
  },
  {
   "cell_type": "markdown",
   "id": "aa60c052",
   "metadata": {},
   "source": [
    "En el siguiente ejercicio, realizaremos un objeto que al chocar con una de las paredes, este cambie de direccion y siga con su camino"
   ]
  },
  {
   "cell_type": "code",
   "execution_count": null,
   "id": "91d76abe",
   "metadata": {},
   "outputs": [],
   "source": [
    "!pip3 install ColabTurtle"
   ]
  },
  {
   "cell_type": "markdown",
   "id": "44c90c7e",
   "metadata": {},
   "source": [
    "Llamamos las librerias"
   ]
  },
  {
   "cell_type": "code",
   "execution_count": null,
   "id": "d60e8cbd",
   "metadata": {},
   "outputs": [],
   "source": [
    "import ColabTurtle.Turtle as robot\n",
    "import random"
   ]
  },
  {
   "cell_type": "markdown",
   "id": "0872362a",
   "metadata": {},
   "source": [
    "Ahora el codigo principal.  \n",
    "De momento el robot rebota y vuelve en la misma dirección.\n",
    "Lo que tienes que hacer es poner un inicio aleatorio y modificar el `if` dentro del lazo `while` de manera que este cambie en un solo eje."
   ]
  },
  {
   "cell_type": "code",
   "execution_count": null,
   "id": "97331929",
   "metadata": {},
   "outputs": [],
   "source": [
    "robot.initializeTurtle(initial_speed=1) \n",
    "pad = 15\n",
    "max_w = robot.window_width() - pad\n",
    "max_h = robot.window_height() - pad\n",
    "\n",
    "robot.shape(\"circle\")\n",
    "robot.color(\"green\")\n",
    "robot.penup()\n",
    "robot.goto(0 + pad, 200)\n",
    "\n",
    "robot.dx = 10  # Velociad en x\n",
    "robot.dy = 10  # Velociad en y\n",
    "\n",
    "reflections = 0\n",
    "\n",
    "# El numero de reflexiones puede ser modificado para que se ejecute por la eternidad. usando while True.\n",
    "# Pero, debido al limitado tiempo, este es limitado a solo 3 reflexiones.\n",
    "\n",
    "while reflections < 3:  \n",
    "  robot.speed(random.randrange(1, 10))\n",
    "  new_y = robot.gety() + robot.dy\n",
    "  new_x = robot.getx() + robot.dx\n",
    "  if (new_y < pad) or \\\n",
    "    (new_y > max_h) or \\\n",
    "    (new_x < pad) or \\\n",
    "    (new_x > max_w):\n",
    "    robot.dy *= -1\n",
    "    robot.dx *= -1\n",
    "    reflections += 1\n",
    "  robot.goto(new_x, new_y)"
   ]
  },
  {
   "cell_type": "markdown",
   "id": "18aabbc5",
   "metadata": {},
   "source": [
    "## ChatBot"
   ]
  },
  {
   "cell_type": "markdown",
   "id": "1f1a8f2a",
   "metadata": {},
   "source": [
    "Para el siguiente ejercicio, utilizaremos un ChatBot con definido por reglas. (Ejemplo tomado de: https://www.analyticsvidhya.com/blog/2021/07/build-a-simple-chatbot-using-python-and-nltk/)"
   ]
  },
  {
   "cell_type": "code",
   "execution_count": null,
   "id": "3a18198e",
   "metadata": {},
   "outputs": [],
   "source": [
    "!pip install nltk"
   ]
  },
  {
   "cell_type": "code",
   "execution_count": null,
   "id": "f8da5eb8",
   "metadata": {},
   "outputs": [],
   "source": [
    "import nltk\n",
    "from nltk.chat.util import Chat, reflections"
   ]
  },
  {
   "cell_type": "markdown",
   "id": "31ebe9f1",
   "metadata": {},
   "source": [
    "**Chat**: es la clase que contiene toda lo logica para processar el texto que el chatbot recibe y encontrar informacion util.\n",
    "**reflections**: es un diccionario que contiene entradas basica y sus correspondientes salidas."
   ]
  },
  {
   "cell_type": "code",
   "execution_count": null,
   "id": "1f242244",
   "metadata": {},
   "outputs": [],
   "source": [
    "print(reflections)"
   ]
  },
  {
   "cell_type": "markdown",
   "id": "b745f12a",
   "metadata": {},
   "source": [
    "Comenzemos contruyendo las reglas. Las siguientes lineas generan un conjunto de reglas simples."
   ]
  },
  {
   "cell_type": "code",
   "execution_count": null,
   "id": "b2c2a887",
   "metadata": {},
   "outputs": [],
   "source": [
    "pairs = [\n",
    "    [\n",
    "        r\"my name is (.*)\",\n",
    "        [\"Hello %1, How are you today ?\",]\n",
    "    ],\n",
    "    [\n",
    "        r\"hi|hey|hello\",\n",
    "        [\"Hello\", \"Hey there\",]\n",
    "    ], \n",
    "    [\n",
    "        r\"what is your name ?\",\n",
    "        [\"I am a bot created by Analytics Vidhya. you can call me crazy!\",]\n",
    "    ],\n",
    "    [\n",
    "        r\"how are you ?\",\n",
    "        [\"I'm doing goodnHow about You ?\",]\n",
    "    ],\n",
    "    [\n",
    "        r\"sorry (.*)\",\n",
    "        [\"Its alright\",\"Its OK, never mind\",]\n",
    "    ],\n",
    "    [\n",
    "        r\"I am fine\",\n",
    "        [\"Great to hear that, How can I help you?\",]\n",
    "    ],\n",
    "    [\n",
    "        r\"i'm (.*) doing good\",\n",
    "        [\"Nice to hear that\",\"How can I help you?:)\",]\n",
    "    ],\n",
    "    [\n",
    "        r\"(.*) age?\",\n",
    "        [\"I'm a computer program dudenSeriously you are asking me this?\",]\n",
    "    ],\n",
    "    [\n",
    "        r\"what (.*) want ?\",\n",
    "        [\"Make me an offer I can't refuse\",]\n",
    "    ],\n",
    "    [\n",
    "        r\"(.*) created ?\",\n",
    "        [\"Raghav created me using Python's NLTK library \",\"top secret ;)\",]\n",
    "    ],\n",
    "    [\n",
    "        r\"(.*) (location|city) ?\",\n",
    "        ['Indore, Madhya Pradesh',]\n",
    "    ],\n",
    "    [\n",
    "        r\"how is weather in (.*)?\",\n",
    "        [\"Weather in %1 is awesome like always\",\"Too hot man here in %1\",\"Too cold man here in %1\",\"Never even heard about %1\"]\n",
    "    ],\n",
    "    [\n",
    "        r\"i work in (.*)?\",\n",
    "        [\"%1 is an Amazing company, I have heard about it. But they are in huge loss these days.\",]\n",
    "    ],\n",
    "    [\n",
    "        r\"(.*)raining in (.*)\",\n",
    "        [\"No rain since last week here in %2\",\"Damn its raining too much here in %2\"]\n",
    "    ],\n",
    "    [\n",
    "        r\"how (.*) health(.*)\",\n",
    "        [\"I'm a computer program, so I'm always healthy \",]\n",
    "    ],\n",
    "    [\n",
    "        r\"(.*) (sports|game) ?\",\n",
    "        [\"I'm a very big fan of Football\",]\n",
    "    ],\n",
    "    [\n",
    "        r\"who (.*) sportsperson ?\",\n",
    "        [\"Messy\",\"Ronaldo\",\"Roony\"]\n",
    "    ],\n",
    "    [\n",
    "        r\"who (.*) (moviestar|actor)?\",\n",
    "        [\"Brad Pitt\"]\n",
    "    ],\n",
    "    [\n",
    "        r\"i am looking for online guides and courses to learn data science, can you suggest?\",\n",
    "        [\"Crazy_Tech has many great articles with each step explanation along with code, you can explore\"]\n",
    "    ],\n",
    "    [\n",
    "        r\"quit\",\n",
    "        [\"BBye take care. See you soon :) \",\"It was nice talking to you. See you soon :)\"]\n",
    "    ],\n",
    "]"
   ]
  },
  {
   "cell_type": "markdown",
   "id": "1410bb51",
   "metadata": {},
   "source": [
    "Después de definir las reglas, definimos la función para ejecutar el proceso de chat."
   ]
  },
  {
   "cell_type": "code",
   "execution_count": null,
   "id": "83b90cb1",
   "metadata": {},
   "outputs": [],
   "source": [
    "def chat(this_creator='Nelson Yalta'):\n",
    "    print(f\"Hola!!! Yo soy un chatbot creado por {this_creator}, y estoy listo para sus servicios. Recuede que hablo inglés.\")\n",
    "    chat = Chat(pairs, reflections)\n",
    "    chat.converse()\n",
    "\n",
    "chat()"
   ]
  }
 ],
 "metadata": {
  "kernelspec": {
   "display_name": "Python 3 (ipykernel)",
   "language": "python",
   "name": "python3"
  },
  "language_info": {
   "codemirror_mode": {
    "name": "ipython",
    "version": 3
   },
   "file_extension": ".py",
   "mimetype": "text/x-python",
   "name": "python",
   "nbconvert_exporter": "python",
   "pygments_lexer": "ipython3",
   "version": "3.9.7"
  }
 },
 "nbformat": 4,
 "nbformat_minor": 5
}
