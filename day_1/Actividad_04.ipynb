{
 "cells": [
  {
   "cell_type": "markdown",
   "id": "645cb88e",
   "metadata": {},
   "source": [
    "# Aprendizaje Profundo"
   ]
  },
  {
   "cell_type": "markdown",
   "id": "2aac0e47",
   "metadata": {},
   "source": [
    "En este ultimo notebook, realizaremos ejercicios acerca del aprendizaje profundo"
   ]
  },
  {
   "cell_type": "markdown",
   "id": "3b2cda80",
   "metadata": {},
   "source": [
    "Empezaremos cargando la libreria PyTorch (torch)"
   ]
  },
  {
   "cell_type": "markdown",
   "id": "812edd2e",
   "metadata": {},
   "source": [
    "Referencias:\n",
    "- https://pytorch.org/docs/stable/torch.html\n"
   ]
  },
  {
   "cell_type": "code",
   "execution_count": null,
   "id": "f8867d01",
   "metadata": {},
   "outputs": [],
   "source": []
  },
  {
   "cell_type": "markdown",
   "id": "03f25008",
   "metadata": {},
   "source": [
    "## Capas Lineales"
   ]
  },
  {
   "cell_type": "markdown",
   "id": "efc4aa29",
   "metadata": {},
   "source": [
    "Las capas lineales aplican una transformacion lineal: $y = xW^T+b$"
   ]
  },
  {
   "cell_type": "code",
   "execution_count": null,
   "id": "7061dcd0",
   "metadata": {},
   "outputs": [],
   "source": []
  },
  {
   "cell_type": "markdown",
   "id": "3da03cde",
   "metadata": {},
   "source": [
    "## Capas Convolucionales"
   ]
  },
  {
   "cell_type": "markdown",
   "id": "015a312e",
   "metadata": {},
   "source": [
    "Las capas convolucionales aplican una transformacion lineal que emplea un arreglo aplicado a la entrada.  \n",
    "Este arreglo (pesos) es de menor dimension que la entrada.  \n",
    "Dado que la arquitectura es compartida reciben el nombre de **cambio invariante** o **espacio invariante**."
   ]
  },
  {
   "cell_type": "markdown",
   "id": "753ae6c7",
   "metadata": {},
   "source": [
    "Son mayormente usados en Imagenes (Matrices de 2-D), por lo que reciben el nombre de convoluciones 2-D.  \n",
    "Aunque tambien existen de 1-D y N-D.  \n",
    "Para una conv2D, la salida de la capa esta formulada de la sgte. forma: \n",
    "\n",
    "$ out(N_i, C_{out_j}) = bias(C_{out_j}) + \\sum_{k=0}^{C_{in}-1}{weight(C_{out_j}, k) * input(N_i, k)}$\n",
    "\n"
   ]
  },
  {
   "attachments": {},
   "cell_type": "markdown",
   "id": "3076dc50",
   "metadata": {},
   "source": [
    "![](conv2d.gif)\n",
    "Referencia: https://ai.plainenglish.io/building-and-training-a-convolutional-neural-network-cnn-from-scratch-9a64bcc62c1"
   ]
  },
  {
   "cell_type": "code",
   "execution_count": null,
   "id": "cf0f9d5b",
   "metadata": {},
   "outputs": [],
   "source": []
  },
  {
   "cell_type": "markdown",
   "id": "0d5ac2af",
   "metadata": {},
   "source": [
    "## Funciones No-Lineales"
   ]
  },
  {
   "cell_type": "markdown",
   "id": "043a2d48",
   "metadata": {},
   "source": [
    "Ref:\n",
    "- https://www.sciencedirect.com/topics/engineering/nonlinearities"
   ]
  },
  {
   "cell_type": "markdown",
   "id": "f597ac05",
   "metadata": {},
   "source": [
    "Las funciones no lineales expresan una situacion donde no existe una relacion directa  \n",
    "(o una linea derecha) entra la variable independiente (entrada) y la dependiente (salida)\n",
    "\n",
    "Funciones:  \n",
    "  $y = sigmoid(x)$  \n",
    "  $y = tanh(x)$  \n",
    "  $y = softmax(x)$  \n",
    "    \n",
    "Ahora, define una vector x desde -10 hasta 10, y aplica la funcion. Grafica la salida"
   ]
  },
  {
   "cell_type": "code",
   "execution_count": null,
   "id": "ed7e04d8",
   "metadata": {},
   "outputs": [],
   "source": []
  },
  {
   "cell_type": "markdown",
   "id": "0403cd26",
   "metadata": {},
   "source": [
    "# Ejercicios de entrenamiento"
   ]
  },
  {
   "cell_type": "markdown",
   "id": "d7b25344",
   "metadata": {},
   "source": [
    "### Definiendo el dispositivo de entrenamiento\n",
    "\n",
    "Para el entrenamiento de redes, el uso de una GPU acelera el proceso.  \n",
    "Por lo que este es mas utilizado."
   ]
  },
  {
   "cell_type": "code",
   "execution_count": null,
   "id": "113d2f80",
   "metadata": {},
   "outputs": [],
   "source": [
    "use_cuda = not args.no_cuda and torch.cuda.is_available()\n",
    "device = torch.device(\"cuda\" if use_cuda else \"cpu\")"
   ]
  },
  {
   "cell_type": "markdown",
   "id": "32afcc5b",
   "metadata": {},
   "source": [
    "## Cargar una base de datos"
   ]
  },
  {
   "cell_type": "markdown",
   "id": "a190be53",
   "metadata": {},
   "source": [
    "Para los siguientes ejercicios, utilizaremos las base de datos MNIST y CIFAR10 empleadas para imagenes.  \n",
    "Ref:\n",
    "- https://pytorch.org/vision/stable/datasets.html"
   ]
  },
  {
   "cell_type": "markdown",
   "id": "415ec9ce",
   "metadata": {},
   "source": [
    "Utilizaremos `torchvision.datasets.`  \n",
    "Despues de descargarlos, visualiza un item de la base de datos."
   ]
  },
  {
   "cell_type": "code",
   "execution_count": null,
   "id": "83a95866",
   "metadata": {},
   "outputs": [],
   "source": [
    "from torchvision import datasets, transforms"
   ]
  },
  {
   "cell_type": "code",
   "execution_count": null,
   "id": "8cedb8d5",
   "metadata": {},
   "outputs": [],
   "source": [
    "train_set = \n",
    "test_set = "
   ]
  },
  {
   "cell_type": "code",
   "execution_count": null,
   "id": "3ec43e9e",
   "metadata": {},
   "outputs": [],
   "source": [
    "transform = transforms.Compose([\n",
    "    transforms.ToTensor(),\n",
    "    transforms.Normalize((0.1307,), (0.3081,))\n",
    "    ])"
   ]
  },
  {
   "cell_type": "code",
   "execution_count": null,
   "id": "aa6c2d48",
   "metadata": {},
   "outputs": [],
   "source": []
  },
  {
   "cell_type": "code",
   "execution_count": null,
   "id": "ec5af250",
   "metadata": {},
   "outputs": [],
   "source": [
    "train_kwargs = {'batch_size': 16}\n",
    "test_kwargs = {'batch_size': 16}\n",
    "if use_cuda:\n",
    "    cuda_kwargs = {'num_workers': 1,\n",
    "                   'pin_memory': True,\n",
    "                   'shuffle': True}\n",
    "    train_kwargs.update(cuda_kwargs)\n",
    "    test_kwargs.update(cuda_kwargs)\n",
    "\n",
    "train_loader = torch.utils.data.DataLoader(train_set,**train_kwargs)\n",
    "test_loader = torch.utils.data.DataLoader(test_set, **test_kwargs)"
   ]
  },
  {
   "cell_type": "markdown",
   "id": "0c1b85fe",
   "metadata": {},
   "source": [
    "## Diseñar tu modelo de entrenamiento"
   ]
  },
  {
   "cell_type": "markdown",
   "id": "32b01609",
   "metadata": {},
   "source": [
    "Disena un modelo basico empleado una clase `nn.Module`"
   ]
  },
  {
   "cell_type": "code",
   "execution_count": null,
   "id": "37465ee4",
   "metadata": {},
   "outputs": [],
   "source": [
    "class MyNet(nn.Module):\n",
    "    def __init__(self, idim, odim):\n",
    "        super().__init__()\n",
    "        self.capa1 = \n",
    "        self.capa2 = \n",
    "    \n",
    "    def forward(self, tensor_x):\n",
    "        return tensor_h"
   ]
  },
  {
   "cell_type": "code",
   "execution_count": null,
   "id": "58826deb",
   "metadata": {},
   "outputs": [],
   "source": [
    "model = MyNet().to(device)"
   ]
  },
  {
   "cell_type": "markdown",
   "id": "40bd0993",
   "metadata": {},
   "source": [
    "## Definir las reglas de entrenamiento"
   ]
  },
  {
   "cell_type": "markdown",
   "id": "481fb837",
   "metadata": {},
   "source": [
    "Aca cargamos los optimizadores para entrenar un modelo"
   ]
  },
  {
   "cell_type": "code",
   "execution_count": null,
   "id": "4858f177",
   "metadata": {},
   "outputs": [],
   "source": [
    "lr = \n",
    "optimizer = optim.Adadelta(model.parameters(), lr=lr)"
   ]
  },
  {
   "cell_type": "markdown",
   "id": "4c901ee6",
   "metadata": {},
   "source": [
    "## Entrenar tu Modelo"
   ]
  },
  {
   "cell_type": "code",
   "execution_count": null,
   "id": "eb637e73",
   "metadata": {},
   "outputs": [],
   "source": [
    "Definimos rutinas de entrenamiento:"
   ]
  },
  {
   "cell_type": "code",
   "execution_count": null,
   "id": "e56ce0ca",
   "metadata": {},
   "outputs": [],
   "source": [
    "def train(args, model, device, train_loader, optimizer, epoch):\n",
    "    model.train()\n",
    "    for batch_idx, (data, target) in enumerate(train_loader):\n",
    "        data, target = data.to(device), target.to(device)\n",
    "        optimizer.zero_grad()\n",
    "        output = model(data)\n",
    "        loss = F.nll_loss(output, target)\n",
    "        loss.backward()\n",
    "        optimizer.step()\n",
    "        if batch_idx % args.log_interval == 0:\n",
    "            print('Train Epoch: {} [{}/{} ({:.0f}%)]\\tLoss: {:.6f}'.format(\n",
    "                epoch, batch_idx * len(data), len(train_loader.dataset),\n",
    "                100. * batch_idx / len(train_loader), loss.item()))\n",
    "            if args.dry_run:\n",
    "                break"
   ]
  },
  {
   "cell_type": "code",
   "execution_count": null,
   "id": "ed0f972c",
   "metadata": {},
   "outputs": [],
   "source": [
    "def test(model, device, test_loader):\n",
    "    model.eval()\n",
    "    test_loss = 0\n",
    "    correct = 0\n",
    "    with torch.no_grad():\n",
    "        for data, target in test_loader:\n",
    "            data, target = data.to(device), target.to(device)\n",
    "            output = model(data)\n",
    "            test_loss += F.nll_loss(output, target, reduction='sum').item()  # sum up batch loss\n",
    "            pred = output.argmax(dim=1, keepdim=True)  # get the index of the max log-probability\n",
    "            correct += pred.eq(target.view_as(pred)).sum().item()\n",
    "\n",
    "    test_loss /= len(test_loader.dataset)\n",
    "\n",
    "    print('\\nTest set: Average loss: {:.4f}, Accuracy: {}/{} ({:.0f}%)\\n'.format(\n",
    "        test_loss, correct, len(test_loader.dataset),\n",
    "        100. * correct / len(test_loader.dataset)))"
   ]
  },
  {
   "cell_type": "code",
   "execution_count": null,
   "id": "6cf827fb",
   "metadata": {},
   "outputs": [],
   "source": [
    "epochs = \n",
    "for epoch in range(1, epochs + 1):\n",
    "    train(args, model, device, train_loader, optimizer, epoch)\n",
    "    test(model, device, test_loader)"
   ]
  },
  {
   "cell_type": "markdown",
   "id": "139d0b75",
   "metadata": {},
   "source": [
    "Si deseas, puedes guardar el modelo entrenado usando:\n",
    "```python\n",
    "torch.save(model.state_dict(), \"mnist_cnn.pt\")\n",
    "```"
   ]
  },
  {
   "cell_type": "markdown",
   "id": "c3fe494d",
   "metadata": {},
   "source": [
    "## Ahora tu.\n",
    "\n",
    "Ejecuta el mismo proceso (desde la carga de datos hasta el entrenamiento), utilizando la base de datos CIFAR10."
   ]
  },
  {
   "cell_type": "code",
   "execution_count": null,
   "id": "4dca3614",
   "metadata": {},
   "outputs": [],
   "source": []
  }
 ],
 "metadata": {
  "kernelspec": {
   "display_name": "Python 3 (ipykernel)",
   "language": "python",
   "name": "python3"
  },
  "language_info": {
   "codemirror_mode": {
    "name": "ipython",
    "version": 3
   },
   "file_extension": ".py",
   "mimetype": "text/x-python",
   "name": "python",
   "nbconvert_exporter": "python",
   "pygments_lexer": "ipython3",
   "version": "3.9.7"
  }
 },
 "nbformat": 4,
 "nbformat_minor": 5
}
